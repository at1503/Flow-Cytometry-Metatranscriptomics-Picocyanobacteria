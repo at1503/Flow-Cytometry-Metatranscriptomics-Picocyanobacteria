import pandas as pd
import matplotlib.pyplot as plt
import plotly.express as px
import cartopy.crs as ccrs


g1_stations = pd.read_feather('g1_fcm.feather')
g2_stations = pd.read_feather('g2_fcm.feather')
g3_stations = pd.read_feather('g3_sample.feather')

#reading in gradient feather files
g1_stations = pd.read_feather('g1_fcm.feather')
g2_stations = pd.read_feather('g2_fcm.feather')
g3_stations = pd.read_feather('g3_sample.feather')


# listing the latitude and longitude of each gradient
g1_lat = []
g1_lon = []

g1_station_nums = list(pd.unique(g1_stations['station']))
g1_station_nums.sort()

g2_lat = []
g2_lon = []

g2_station_nums = list(pd.unique(g2_stations['station']))
g2_station_nums.sort()

g3_lat = []
g3_lon = []

g3_station_nums = list(pd.unique(g3_stations['station']))
g3_station_nums.sort()

# moving through each gradient and each station coordinates and plotting them
for i in g1_station_nums:  
    station_df = g1_stations.loc[g1_stations['station'] == i]
    
    station_lat = pd.unique(station_df['lat'])[0]
    g1_lat.append(station_lat)
    
    station_lon = pd.unique(station_df['lon'])[0]
    g1_lon.append(station_lon)
plot_1 = px.scatter_geo(g1_stations, lat = g1_lat, lon = g1_lon, color = g1_station_nums)
plot_1.show()

for i in g2_station_nums:  
    station_df = g2_stations.loc[g2_stations['station'] == i]
    
    station_lat = pd.unique(station_df['lat'])[0]
    g2_lat.append(station_lat)
    
    station_lon = pd.unique(station_df['lon'])[0]
    g2_lon.append(station_lon)
plot_2 = px.scatter_geo(g2_stations, lat = g2_lat, lon = g2_lon, color = g2_station_nums)
plot_2.show()

for i in g3_station_nums:  
    station_df = g3_stations.loc[g3_stations['station'] == i]
    
    station_lat = pd.unique(station_df['lat'])[0]
    g3_lat.append(station_lat)
    
    station_lon = pd.unique(station_df['lon'])[0]
    g3_lon.append(station_lon)
plot_3 = px.scatter_geo(g3_stations, lat = g3_lat, lon = g3_lon, color = g3_station_nums)
plot_3.show()

# reading in file that contains all stations from all gradients
meta_sample = pd.read_csv('sample_metadata.csv')

stations = meta_sample.drop_duplicates(subset = ['Latitude', 'Longitude', 'Cruise'])

# getting the name of the different cruises (cruise name corelates to gradient number)
cruises = pd.unique(stations['Cruise'])

gradient_names = ['Gradient 3', 'Gradient 1', 'Gradient 2']

# setting up map space
plt.figure(figsize=(12, 8))
ax = plt.axes(projection=ccrs.PlateCarree())

# latitude
x = 35
# longitude
y = -158

ax.set_extent([y-10,y+10,x-20,x+10],ccrs.PlateCarree())

# plot g1 - g3 stations
for i in [0, 1, 2]:
    cruise_name = cruises[i]
    cruise_df = stations.loc[stations['Cruise'] == cruise_name]
    ax.scatter(cruise_df['Longitude'], cruise_df['Latitude'], label = cruise_name + ' - ' + gradient_names[i])
ax.legend()


ax.coastlines(resolution='110m')
gl = ax.gridlines(draw_labels=True)
gl.top_labels = False
gl.right_labels = False
plt.show()
